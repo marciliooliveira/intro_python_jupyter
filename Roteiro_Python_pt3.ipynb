{
 "cells": [
  {
   "cell_type": "markdown",
   "metadata": {
    "deletable": false,
    "editable": false
   },
   "source": [
    "<div>\n",
    "    <p><center><h2><b>Bem-vindo ao roteiro de Introdução ao Python - Parte 3</b></h2><br><font size='2px'>*Confeccionado por Marcílio F. Oliveira Neto (marciliofoneto@gmail.com)<br>Github: github.com/marciliooliveira</font></center></p>\n",
    "    <p>Neste roteiro você irá aprender sobre a sintaxe do Python. Este roteiro tem o intuito de seguir o conceito <i>do-it-yourself</i>.</p>\n",
    "</div><br>\n",
    "<div>\n",
    "    <p>Neste roteiro você encontrará os seguintes tópicos sobre Python:</p>\n",
    "    <ul>\n",
    "        <li>for</li>\n",
    "        <li>while</li>\n",
    "    </ul>\n",
    "</div>\n",
    "<div>\n",
    "    <p><h2>Instruções para utilizar este roteiro:</h2></p>\n",
    "    <ul>\n",
    "        <li>Importar o arquivo deste roteiro no Jupyter;</li>\n",
    "        <li>Clicar no menu superior <b>Cell</b>;</li>\n",
    "        <li>Clicar na opção <b>Run All</b>;</li>\n",
    "        <li>Para executar célular individualmente utilizar:</li>\n",
    "        <ul><li>Selecionar a célula</li>\n",
    "            <li>Clicar no botão <b>Run</b> - menu superior - ou;</li>\n",
    "            <li>Clicar na opção <b>Cell</b> e <b>Run Cells</b> - ou;</li>\n",
    "            <li>Utilizar o atalho <b>Ctrl + Enter</b>.</li>\n",
    "        </ul>\n",
    "    </ul>\n",
    "    <p></p>\n",
    "</div>\n",
    "__________________________________________________________________________________________________________________<br>\n",
    "<div><font size='2px'>\n",
    "    <p>Este roteiro foi inspirado em metodologias ativas de ensino.<br>Este conteúdo foi confeccionado pelo professor: Marcílio Francisco de Oliveira Neto (marciliofoneto@gmail.com) <br>Este roteiro é aberto para todos, só não esqueça de citar a fonte!</p>\n",
    "    </font></div>"
   ]
  },
  {
   "cell_type": "markdown",
   "metadata": {
    "deletable": false,
    "editable": false
   },
   "source": [
    "<div>\n",
    "    <p><h2>O <i><b>for</b></i></h2></p>\n",
    "    <p>Este comando é, em linhas gerais, um laço de execução. Entenda por laço algo que facilita sua vida, que possui execução por ciclos determinados - por você! Isso garante produtividade, uma vez que podemos reexecutar códigos escritos apenas uma única vez.</p>\n",
    "    <p>Image que sua tarefa seja exibir na tela 1000 frases <i>\"Olá, estou aprendendo Python\"</i>, como você faria? Mil \"copiar + colar\" seria uma alternativa, mas nada produtivo e elegante, concorda? Eis que o <b>for</b> salvará sua pele.</p>\n",
    "    <p>Veja como sua sintaxe é simples e elegante:</p>\n",
    "</div>"
   ]
  },
  {
   "cell_type": "code",
   "execution_count": 3,
   "metadata": {
    "deletable": false,
    "editable": false
   },
   "outputs": [
    {
     "name": "stdout",
     "output_type": "stream",
     "text": [
      "Olá, estou aprendendo Python\n",
      "Olá, estou aprendendo Python\n",
      "Olá, estou aprendendo Python\n"
     ]
    }
   ],
   "source": [
    "for i in range(3): #define que o laço será executado 3x\n",
    "    print(\"Olá, estou aprendendo Python\")"
   ]
  },
  {
   "cell_type": "markdown",
   "metadata": {
    "deletable": false,
    "editable": false
   },
   "source": [
    "<div>\n",
    "    <p>Note no quadro acima que com apenas um comando <b>print</b> ocorreram 3 exibições da frase em questão. Como isso é possível? Com o <b>for</b> e alguns outros detalhes.</p>\n",
    "    <p>O comando <b>range(x)</b> tem por característica informar ao <b>for</b> quantas vezes os comandos abaixo dele deverão ser executados, o <i>x</i> é a quantidade de vezes que deseja. Lembre-se da indentação, os comandos abaixo do <b>for</b> possuem maior recuo, o que os permite estar na hierarquia deste comando.</p>\n",
    "    <p>Mas e o <b>i</b>? Vou te responder com código!</p>\n",
    "</div>"
   ]
  },
  {
   "cell_type": "code",
   "execution_count": 6,
   "metadata": {
    "deletable": false,
    "editable": false
   },
   "outputs": [
    {
     "name": "stdout",
     "output_type": "stream",
     "text": [
      "Olá, estou aprendendo Python - frase: 0\n",
      "Olá, estou aprendendo Python - frase: 1\n",
      "Olá, estou aprendendo Python - frase: 2\n"
     ]
    }
   ],
   "source": [
    "for i in range(3): #define que o laço será executado 3x\n",
    "    print(\"Olá, estou aprendendo Python - frase:\", i) #A variável i é responsável por dizer qual execução estamos!"
   ]
  },
  {
   "cell_type": "markdown",
   "metadata": {
    "deletable": false,
    "editable": false
   },
   "source": [
    "<div>\n",
    "    <p>A variável <b><i>i</i></b> - na verdade pode ser o nome que você desejar - guarda o número da execução que o <b>for</b> está! Isso é muito importante, pois poderemos utilizá-lo futuramente em outros conceitos.</p>\n",
    "    <p>Veja alguns exemplos práticos do <b>for</b>:</p>\n",
    "</div>"
   ]
  },
  {
   "cell_type": "code",
   "execution_count": 8,
   "metadata": {
    "deletable": false,
    "editable": false
   },
   "outputs": [
    {
     "name": "stdout",
     "output_type": "stream",
     "text": [
      "Digite um número: 21\n",
      "O número digitado foi: 21\n",
      "Digite um número: 1\n",
      "O número digitado foi: 1\n",
      "Digite um número: 2\n",
      "O número digitado foi: 2\n",
      "Digite um número: 5\n",
      "O número digitado foi: 5\n",
      "Digite um número: 3\n",
      "O número digitado foi: 3\n"
     ]
    }
   ],
   "source": [
    "#Exemplo que realiza a leitura e exibição de 5 possíveis números informados pelo usuário\n",
    "for i in range(5): #define que o laço será executado 5x\n",
    "    numero = int(input(\"Digite um número: \"))\n",
    "    print(\"O número digitado foi:\", numero)"
   ]
  },
  {
   "cell_type": "markdown",
   "metadata": {
    "deletable": false,
    "editable": false
   },
   "source": [
    "<div>\n",
    "    <p>Perceba que podemos colocar qualquer código abaixo do <b>for</b>! Veja abaixo outra aplicação.</p>\n",
    "</div>"
   ]
  },
  {
   "cell_type": "code",
   "execution_count": 9,
   "metadata": {
    "deletable": false,
    "editable": false
   },
   "outputs": [
    {
     "name": "stdout",
     "output_type": "stream",
     "text": [
      "Digite um número: 3\n",
      "O número digitado foi: 3\n",
      "Digite um número: 9\n",
      "O número digitado foi: 9\n",
      "Digite um número: 10\n",
      "O número digitado foi: 10\n",
      "ACERTO\n",
      "Digite um número: 2\n",
      "O número digitado foi: 2\n",
      "Digite um número: 0\n",
      "O número digitado foi: 0\n"
     ]
    }
   ],
   "source": [
    "#Exemplo que realiza a leitura e exibição de 5 possíveis números informados pelo usuário\n",
    "#Além disso, se o número digitado for 10, ele informa mensagem de \"ACERTO\"\n",
    "for i in range(5): #define que o laço será executado 5x\n",
    "    numero = int(input(\"Digite um número: \"))\n",
    "    print(\"O número digitado foi:\", numero)\n",
    "    if numero == 10:\n",
    "        print(\"ACERTO\")"
   ]
  },
  {
   "cell_type": "markdown",
   "metadata": {
    "deletable": false,
    "editable": false
   },
   "source": [
    "<div>\n",
    "    <p><h2><b>Do-it-yourself</b></h2></p>\n",
    "    <p>Escreva um script capaz de simular um validador de senha. O usuário tem 3 chances de acerto.</p>\n",
    "    <p>Suponha que a senha correta você já tenha definido em uma variável.</p>\n",
    "    <p>Se o usuário acertar a senha, mostre uma mensagem amigável <i>Bem-vindo!</i>, senão, mostre <i>Errou a tentativa!</i>.</p>\n",
    "</div>"
   ]
  },
  {
   "cell_type": "code",
   "execution_count": null,
   "metadata": {},
   "outputs": [],
   "source": []
  },
  {
   "cell_type": "markdown",
   "metadata": {
    "deletable": false,
    "editable": false
   },
   "source": [
    "<div>\n",
    "    <p><h2>O <i><b>while</b></i></h2></p>\n",
    "    <p>O comando é mais um laço e execução, porém, possui alguns detalhes diferentes quando comparado ao <b>for</b>, por exemplo.</p>\n",
    "    <p>Para que o <b>while</b> seja executado, uma condição - definida por você - deve ser satisfeita. Assim, os testes dessas condições levam consigo os mesmos detalhes dos testes utilizados com o comando <b>if</b>.</p>\n",
    "    <p>Veja como sua sintaxe é simples e elegante:</p>\n",
    "</div>"
   ]
  },
  {
   "cell_type": "code",
   "execution_count": 11,
   "metadata": {
    "deletable": false,
    "editable": false
   },
   "outputs": [
    {
     "name": "stdout",
     "output_type": "stream",
     "text": [
      "Digite um numero qualquer - para sair, digite 1: 2\n",
      "Digite um numero qualquer - para sair, digite 1: 5\n",
      "Digite um numero qualquer - para sair, digite 1: 0\n",
      "Digite um numero qualquer - para sair, digite 1: 1\n"
     ]
    }
   ],
   "source": [
    "#Exemplo de execução do while enquanto o número digitado pelo usuário for diferente de 1\n",
    "numero_digitado = 0 #variável que guardará o número a ser digitado - inicialmente é 0\n",
    "while numero_digitado != 1: #enquanto a variáel numero_digitado é diferente de 1, faça:\n",
    "    numero_digitado = int(input(\"Digite um numero qualquer - para sair, digite 1: \"))"
   ]
  },
  {
   "cell_type": "markdown",
   "metadata": {
    "deletable": false,
    "editable": false
   },
   "source": [
    "<div>\n",
    "    <p>Note que não houve a necessidade de limitar - ou informar - quantas vezes o laço deve ser executado. Uma grande diferença quando comparado ao <b>for</b>.</p>\n",
    "</div>\n",
    "<div>\n",
    "    <p><h2><b>Do-it-yourself</b></h2></p>\n",
    "    <p>Modifique o <b>do-it-yourself</b> acima, possibilitando ao usuário digitar a senha - incontáveis vezes - enquanto estiver errada, ou seja, enquanto a senha for incorreta, permita-o digitar novamente.</p>\n",
    "</div>"
   ]
  },
  {
   "cell_type": "code",
   "execution_count": null,
   "metadata": {},
   "outputs": [],
   "source": []
  },
  {
   "cell_type": "markdown",
   "metadata": {
    "deletable": false,
    "editable": false
   },
   "source": [
    "<div>\n",
    "    <p>Para que o <b>while</b> tenha um comportamento parecido ao do <b>for</b>, podemos utilizar a seguinte estrutura, com a ajuda de uma variável auxiliar.</p>\n",
    "</div>"
   ]
  },
  {
   "cell_type": "code",
   "execution_count": 13,
   "metadata": {
    "deletable": false,
    "editable": false
   },
   "outputs": [
    {
     "name": "stdout",
     "output_type": "stream",
     "text": [
      "0\n",
      "1\n",
      "2\n"
     ]
    }
   ],
   "source": [
    "#Exemplo do comando while com variável auxiliar (contadora) - igual ao do for\n",
    "aux = 0\n",
    "while aux < 3:\n",
    "    print(aux)\n",
    "    aux = aux + 1"
   ]
  }
 ],
 "metadata": {
  "kernelspec": {
   "display_name": "Python 3",
   "language": "python",
   "name": "python3"
  },
  "language_info": {
   "codemirror_mode": {
    "name": "ipython",
    "version": 3
   },
   "file_extension": ".py",
   "mimetype": "text/x-python",
   "name": "python",
   "nbconvert_exporter": "python",
   "pygments_lexer": "ipython3",
   "version": "3.6.5"
  }
 },
 "nbformat": 4,
 "nbformat_minor": 2
}
