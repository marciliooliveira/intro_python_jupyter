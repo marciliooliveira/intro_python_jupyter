{
 "cells": [
  {
   "cell_type": "markdown",
   "metadata": {
    "deletable": false,
    "editable": false
   },
   "source": [
    "<div>\n",
    "    <p><center><h2><b>Bem-vindo ao roteiro de Introdução ao Python - Parte 3</b></h2><br><font size='2px'>*Confeccionado por Marcílio F. Oliveira Neto (marciliofoneto@gmail.com)<br>Github: github.com/marciliooliveira</font></center></p>\n",
    "    <p>Neste roteiro você irá aprender sobre a sintaxe do Python. Este roteiro tem o intuito de seguir o conceito <i>do-it-yourself</i>.</p>\n",
    "</div><br>\n",
    "<div>\n",
    "    <p>Neste roteiro você encontrará os seguintes tópicos sobre Python:</p>\n",
    "    <ul>\n",
    "        <li>for</li>\n",
    "        <li>while</li>\n",
    "        <li>for/else</li>\n",
    "        <li>while/else</li>\n",
    "    </ul>\n",
    "</div>\n",
    "<div>\n",
    "    <p><h2>Instruções para utilizar este roteiro:</h2></p>\n",
    "    <ul>\n",
    "        <li>Importar o arquivo deste roteiro no Jupyter;</li>\n",
    "        <li>Clicar no menu superior <b>Cell</b>;</li>\n",
    "        <li>Clicar na opção <b>Run All</b>;</li>\n",
    "        <li>Para executar célular individualmente utilizar:</li>\n",
    "        <ul><li>Selecionar a célula</li>\n",
    "            <li>Clicar no botão <b>Run</b> - menu superior - ou;</li>\n",
    "            <li>Clicar na opção <b>Cell</b> e <b>Run Cells</b> - ou;</li>\n",
    "            <li>Utilizar o atalho <b>Ctrl + Enter</b>.</li>\n",
    "        </ul>\n",
    "    </ul>\n",
    "    <p></p>\n",
    "</div>\n",
    "__________________________________________________________________________________________________________________<br>\n",
    "<div><font size='2px'>\n",
    "    <p>Este roteiro foi inspirado em metodologias ativas de ensino.<br>Este conteúdo foi confeccionado pelo professor: Marcílio Francisco de Oliveira Neto (marciliofoneto@gmail.com) <br>Este roteiro é aberto para todos, só não esqueça de citar a fonte!</p>\n",
    "    </font></div>"
   ]
  },
  {
   "cell_type": "markdown",
   "metadata": {
    "deletable": false,
    "editable": false
   },
   "source": [
    "<div>\n",
    "    <p><h2>O <i><b>for</b></i></h2></p>\n",
    "    <p>Este comando é, em linhas gerais, um laço de execução. Entenda por laço algo que facilita sua vida, que possui execução por ciclos determinados - por você! Isso garante produtividade, uma vez que podemos reexecutar códigos escritos apenas uma única vez.</p>\n",
    "    <p>Image que sua tarefa seja exibir na tela 1000 frases <i>\"Olá, estou aprendendo Python\"</i>, como você faria? Mil \"copiar + colar\" seria uma alternativa, mas nada produtivo e elegante, concorda? Eis que o <b>for</b> salvará sua pele.</p>\n",
    "    <p>Veja como sua sintaxe é simples e elegante:</p>\n",
    "</div>"
   ]
  },
  {
   "cell_type": "code",
   "execution_count": 1,
   "metadata": {
    "deletable": false,
    "editable": false,
    "scrolled": true
   },
   "outputs": [
    {
     "name": "stdout",
     "output_type": "stream",
     "text": [
      "Olá, estou aprendendo Python\n",
      "Olá, estou aprendendo Python\n",
      "Olá, estou aprendendo Python\n"
     ]
    }
   ],
   "source": [
    "for i in range(3): #define que o laço será executado 3x\n",
    "    print(\"Olá, estou aprendendo Python\")"
   ]
  },
  {
   "cell_type": "markdown",
   "metadata": {
    "deletable": false,
    "editable": false
   },
   "source": [
    "<div>\n",
    "    <p>Note no quadro acima que com apenas um comando <b>print</b> ocorreram 3 exibições da frase em questão. Como isso é possível? Com o <b>for</b> e alguns outros detalhes.</p>\n",
    "    <p>O comando <b>range(x)</b> tem por característica informar ao <b>for</b> quantas vezes os comandos abaixo dele deverão ser executados, o <i>x</i> é a quantidade de vezes que deseja. Lembre-se da indentação, os comandos abaixo do <b>for</b> possuem maior recuo, o que os permite estar na hierarquia deste comando.</p>\n",
    "    <p>Mas e o <b>i</b>? Vou te responder com código!</p>\n",
    "</div>"
   ]
  },
  {
   "cell_type": "code",
   "execution_count": 2,
   "metadata": {
    "deletable": false,
    "editable": false,
    "scrolled": true
   },
   "outputs": [
    {
     "name": "stdout",
     "output_type": "stream",
     "text": [
      "Olá, estou aprendendo Python - frase: 0\n",
      "Olá, estou aprendendo Python - frase: 1\n",
      "Olá, estou aprendendo Python - frase: 2\n"
     ]
    }
   ],
   "source": [
    "for i in range(3): #define que o laço será executado 3x\n",
    "    print(\"Olá, estou aprendendo Python - frase:\", i) #A variável i é responsável por dizer qual execução estamos!"
   ]
  },
  {
   "cell_type": "markdown",
   "metadata": {
    "deletable": false,
    "editable": false
   },
   "source": [
    "<div>\n",
    "    <p>A variável <b><i>i</i></b> - na verdade pode ser o nome que você desejar - guarda o número da execução que o <b>for</b> está! Isso é muito importante, pois poderemos utilizá-lo futuramente em outros conceitos.</p>\n",
    "    <p>Veja alguns exemplos práticos do <b>for</b>:</p>\n",
    "</div>"
   ]
  },
  {
   "cell_type": "code",
   "execution_count": 3,
   "metadata": {
    "deletable": false,
    "editable": false,
    "scrolled": true
   },
   "outputs": [
    {
     "name": "stdout",
     "output_type": "stream",
     "text": [
      "Digite um número: 12\n",
      "O número digitado foi: 12\n",
      "Digite um número: 12\n",
      "O número digitado foi: 12\n",
      "Digite um número: 12\n",
      "O número digitado foi: 12\n",
      "Digite um número: 12\n",
      "O número digitado foi: 12\n",
      "Digite um número: 12\n",
      "O número digitado foi: 12\n"
     ]
    }
   ],
   "source": [
    "#Exemplo que realiza a leitura e exibição de 5 possíveis números informados pelo usuário\n",
    "for i in range(5): #define que o laço será executado 5x\n",
    "    numero = int(input(\"Digite um número: \"))\n",
    "    print(\"O número digitado foi:\", numero)"
   ]
  },
  {
   "cell_type": "markdown",
   "metadata": {
    "deletable": false,
    "editable": false
   },
   "source": [
    "<div>\n",
    "    <p>Perceba que podemos colocar qualquer código abaixo do <b>for</b>! Veja abaixo outra aplicação.</p>\n",
    "</div>"
   ]
  },
  {
   "cell_type": "code",
   "execution_count": 4,
   "metadata": {
    "deletable": false,
    "editable": false,
    "scrolled": true
   },
   "outputs": [
    {
     "name": "stdout",
     "output_type": "stream",
     "text": [
      "Digite um número: 1\n",
      "O número digitado foi: 1\n",
      "Digite um número: 1\n",
      "O número digitado foi: 1\n",
      "Digite um número: 3\n",
      "O número digitado foi: 3\n",
      "Digite um número: 2\n",
      "O número digitado foi: 2\n",
      "Digite um número: 1\n",
      "O número digitado foi: 1\n"
     ]
    }
   ],
   "source": [
    "#Exemplo que realiza a leitura e exibição de 5 possíveis números informados pelo usuário\n",
    "#Além disso, se o número digitado for 10, ele informa mensagem de \"ACERTO\"\n",
    "for i in range(5): #define que o laço será executado 5x\n",
    "    numero = int(input(\"Digite um número: \"))\n",
    "    print(\"O número digitado foi:\", numero)\n",
    "    if numero == 10:\n",
    "        print(\"ACERTO\")"
   ]
  },
  {
   "cell_type": "markdown",
   "metadata": {
    "deletable": false,
    "editable": false
   },
   "source": [
    "<div>\n",
    "    <p><h2><b>Do-it-yourself</b></h2></p>\n",
    "    <p>Escreva um script capaz de simular um validador de senha. O usuário tem 3 chances de acerto.</p>\n",
    "    <p>Suponha que a senha correta você já tenha definido em uma variável.</p>\n",
    "    <p>Se o usuário acertar a senha, mostre uma mensagem amigável <i>Bem-vindo!</i>, senão, mostre <i>Errou a tentativa!</i>.</p>\n",
    "</div>"
   ]
  },
  {
   "cell_type": "code",
   "execution_count": null,
   "metadata": {
    "scrolled": true
   },
   "outputs": [],
   "source": []
  },
  {
   "cell_type": "markdown",
   "metadata": {},
   "source": [
    "<div>\n",
    "    <p><h2>O <i><b>while</b></i></h2></p>\n",
    "    <p>O comando é mais um laço e execução, porém, possui alguns detalhes diferentes quando comparado ao <b>for</b>, por exemplo.</p>\n",
    "    <p>Para que o <b>while</b> seja executado, uma condição - definida por você - deve ser satisfeita. Assim, os testes dessas condições levam consigo os mesmos detalhes dos testes utilizados com o comando <b>if</b>.</p>\n",
    "    <p>Veja como sua sintaxe é simples e elegante:</p>\n",
    "</div>"
   ]
  },
  {
   "cell_type": "code",
   "execution_count": 5,
   "metadata": {
    "deletable": false,
    "editable": false,
    "scrolled": true
   },
   "outputs": [
    {
     "name": "stdout",
     "output_type": "stream",
     "text": [
      "Digite um numero qualquer - para sair, digite 1: 1\n"
     ]
    }
   ],
   "source": [
    "#Exemplo de execução do while enquanto o número digitado pelo usuário for diferente de 1\n",
    "numero_digitado = 0 #variável que guardará o número a ser digitado - inicialmente é 0\n",
    "while numero_digitado != 1: #enquanto a variáel numero_digitado é diferente de 1, faça:\n",
    "    numero_digitado = int(input(\"Digite um numero qualquer - para sair, digite 1: \"))"
   ]
  },
  {
   "cell_type": "markdown",
   "metadata": {},
   "source": [
    "<div>\n",
    "    <p>Note que não houve a necessidade de limitar - ou informar - quantas vezes o laço deve ser executado. Uma grande diferença quando comparado ao <b>for</b>.</p>\n",
    "</div>\n",
    "<div>\n",
    "    <p><h2><b>Do-it-yourself</b></h2></p>\n",
    "    <p>Modifique o <b>do-it-yourself</b> acima, possibilitando ao usuário digitar a senha - incontáveis vezes - enquanto estiver errada, ou seja, enquanto a senha for incorreta, permita-o digitar novamente.</p>\n",
    "</div>"
   ]
  },
  {
   "cell_type": "code",
   "execution_count": null,
   "metadata": {
    "scrolled": true
   },
   "outputs": [],
   "source": []
  },
  {
   "cell_type": "markdown",
   "metadata": {
    "deletable": false,
    "editable": false
   },
   "source": [
    "<div>\n",
    "    <p>Para que o <b>while</b> tenha um comportamento parecido ao do <b>for</b>, podemos utilizar a seguinte estrutura, com a ajuda de uma variável auxiliar.</p>\n",
    "</div>"
   ]
  },
  {
   "cell_type": "code",
   "execution_count": 6,
   "metadata": {
    "deletable": false,
    "editable": false,
    "scrolled": true
   },
   "outputs": [
    {
     "name": "stdout",
     "output_type": "stream",
     "text": [
      "0\n",
      "1\n",
      "2\n"
     ]
    }
   ],
   "source": [
    "#Exemplo do comando while com variável auxiliar (contadora) - igual ao do for\n",
    "aux = 0\n",
    "while aux < 3:\n",
    "    print(aux)\n",
    "    aux = aux + 1"
   ]
  },
  {
   "cell_type": "markdown",
   "metadata": {
    "deletable": false,
    "editable": false
   },
   "source": [
    "<div>\n",
    "    <p><b><h2><i>O for e a cláusula else</i></h2></b></p>\n",
    "    <p>Como deve ter ficado claro para você nos tópicos acima, o <i><b>for</b></i> é um laço de execução que a cada passada realiza um teste, é assim que ele sabe que deve executar de 1 a 5, por exemplo.. Tomando como base o comando <b>range</b>, esse gera uma lista e para cada número contido nela o <b>for</b> é executado. Porém, quando não houver mais elementos, o laço é então interrompido, mas podemos tratar essa interrupção e capturá-la numa cláusula <b>else</b>, no maior estilo if-else</p>\n",
    "    <p>Veja um exemplo prático:</p>\n",
    "</div>"
   ]
  },
  {
   "cell_type": "code",
   "execution_count": 7,
   "metadata": {
    "deletable": false,
    "editable": false,
    "scrolled": true
   },
   "outputs": [
    {
     "name": "stdout",
     "output_type": "stream",
     "text": [
      "0\n",
      "1\n",
      "2\n",
      "3\n",
      "Neste caso, tratamos a saída do for, com j = 3\n"
     ]
    }
   ],
   "source": [
    "#Exemplo de for-else, onde o else captura a saída do comando for\n",
    "for j in range(4):\n",
    "    print(j)\n",
    "else:\n",
    "    print(\"Neste caso, tratamos a saída do for, com j =\",j)"
   ]
  },
  {
   "cell_type": "markdown",
   "metadata": {
    "deletable": false,
    "editable": false
   },
   "source": [
    "<div>\n",
    "    <p>Bem louco, não é? Note, acima, que a cláusula <b>else</b> é executada SEMPRE quando laço <b>for</b> TERMINA! Ou seja, se por algum motivo o <b>for</b> não chegar ao seu final, o <b>else</b> não será executado, vou mostrar logo a seguir isso.</p>\n",
    "    <p>Ok, mas aí você me pergunta, por que isso é bom?</p>\n",
    "    <p>Te respondo com um exemplo, o qual visa percorrer uma lista e buscar um número inserido pelo usuário:</p>\n",
    "</div>"
   ]
  },
  {
   "cell_type": "code",
   "execution_count": 8,
   "metadata": {
    "deletable": false,
    "editable": false,
    "scrolled": true
   },
   "outputs": [
    {
     "name": "stdout",
     "output_type": "stream",
     "text": [
      "Digite um número a ser pesquisado:4\n",
      "Número 4 encontrado\n"
     ]
    }
   ],
   "source": [
    "#lista numérica\n",
    "lst_numero = [1,2,3,4,5]\n",
    "#número a ser pesquisado - digitado\n",
    "pesquisa = int(input(\"Digite um número a ser pesquisado:\"))\n",
    "#para cada número da lista, testar se pesquisa é igual pesquisa\n",
    "for i in lst_numero:\n",
    "    if i == pesquisa:\n",
    "        print(\"Número\",i,\"encontrado\")\n",
    "        break; #caso o número seja encontrado, o break interrompe o laço for!\n",
    "else:\n",
    "    print(\"O número não existe!\")"
   ]
  },
  {
   "cell_type": "markdown",
   "metadata": {
    "deletable": false,
    "editable": false
   },
   "source": [
    "<div>\n",
    "    <p>Interessante, não é? Se o número EXISTE na lista, o for é interrompido pelo comando <b>break</b> e o <b>else</b> não é executado, caso contrário, o <b>for</b> é executado até o final e a cláusula <b>else</b> tratará o que não foi encontrado na lista.</p>\n",
    "    <p>Basicamente, o <b>else</b> tratará uma condição não satisfeita em um dado momento no <b>for</b>, ou como verá a seguir, no <b>while</b>.</p>\n",
    "    <p>Isso é uma funcionalidade que o Python te fornece, diferente de outras linguagens. Caso contrário, você provavelmente usaria outras variáveis de controle e vários outros testes com <b>if</b> para representar a lógica acima.</p>\n",
    "</div>\n",
    "<div>\n",
    "    <p><b><h2><i>O while e a cláusula else</i></h2></b></p>\n",
    "    <p>O <b>while</b> é um laço de execução que sempre realiza testes para executar e, enquanto o resultado do teste for verdade, a execução continua. Com o <b>else</b> podemos capturar e tratar o cenário dessa condição ser falsa.</p>\n",
    "    <p>Veja um exemplo prático:</p>\n",
    "</div>"
   ]
  },
  {
   "cell_type": "code",
   "execution_count": 9,
   "metadata": {
    "deletable": false,
    "editable": false,
    "scrolled": true
   },
   "outputs": [
    {
     "name": "stdout",
     "output_type": "stream",
     "text": [
      "O valor de i = 10\n"
     ]
    }
   ],
   "source": [
    "i = 0\n",
    "#enquanto o valor de i é menor que 10, faça:\n",
    "while i < 10:\n",
    "    i += 1\n",
    "else: #caso i seja = ou > que 10, trate:\n",
    "    print(\"O valor de i =\", i)"
   ]
  },
  {
   "cell_type": "markdown",
   "metadata": {
    "deletable": false,
    "editable": false
   },
   "source": [
    "<div>\n",
    "    <p>Note que o <b>while</b> é executado e responsável por incrementar a variável i, inicialmente com 0. Ao passo que a variável torna-se igual a 10, o <b>while</b> é encerrado, portanto, sua condição é FALSA e capturada pelo <b>else</b>.</p>\n",
    "</div>\n",
    "<div>\n",
    "    <p><h2><b>Do-it-yourself</b></h2></p>\n",
    "    <p>Utilizando o comando <b>for</b>, verifique se um número informado pelo usuário é primo ou não. Utilize um intervalor de [1..NUM], onde NUM é o número informado. Trate com a cláusula <b>else</b> caso o número for primo.</p>\n",
    "</div>"
   ]
  },
  {
   "cell_type": "code",
   "execution_count": null,
   "metadata": {
    "scrolled": true
   },
   "outputs": [],
   "source": []
  },
  {
   "cell_type": "markdown",
   "metadata": {
    "deletable": false,
    "editable": false
   },
   "source": [
    "<div>\n",
    "    <p><h2><b>Do-it-yourself</b></h2></p>\n",
    "    <p>Utilizando o comando <b>while</b>, mostre quantas vezes um número é divisível por 2. Mostre na tela se o número é divisível apenas por 2 ou se por algum outro número - pense em como capturar essas condições utilizando o <b>break</b> e a cláusula <b>else</b> na saída do laço. Dica: Não deixe o laço continuar caso a divisão seja menor ou igual a 1.</p>\n",
    "</div>"
   ]
  },
  {
   "cell_type": "code",
   "execution_count": null,
   "metadata": {
    "scrolled": true
   },
   "outputs": [],
   "source": []
  },
  {
   "cell_type": "markdown",
   "metadata": {
    "deletable": false,
    "editable": false
   },
   "source": [
    "<div>\n",
    "    <p><b><h2>Parabéns! Você finalizou o roteiro 3!</h2></b></p>\n",
    "    <p>Agora é hora de você praticar com exercícios.</p>\n",
    "</div>\n",
    "__________________________________________________________________________________________________________________<br>\n",
    "<div><font size='1px'>\n",
    "    <p>Este roteiro foi inspirado em metodologias ativas de ensino.<br>Este conteúdo foi confeccionado pelo professor: <br>Marcílio Francisco de Oliveira Neto (marciliofoneto@gmail.com)</p>\n",
    "    </font></div>"
   ]
  }
 ],
 "metadata": {
  "kernelspec": {
   "display_name": "Python 3",
   "language": "python",
   "name": "python3"
  },
  "language_info": {
   "codemirror_mode": {
    "name": "ipython",
    "version": 3
   },
   "file_extension": ".py",
   "mimetype": "text/x-python",
   "name": "python",
   "nbconvert_exporter": "python",
   "pygments_lexer": "ipython3",
   "version": "3.6.5"
  }
 },
 "nbformat": 4,
 "nbformat_minor": 2
}
