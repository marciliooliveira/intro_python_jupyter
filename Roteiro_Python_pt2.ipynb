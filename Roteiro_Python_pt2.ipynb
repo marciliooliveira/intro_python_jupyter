{
 "cells": [
  {
   "cell_type": "markdown",
   "metadata": {},
   "source": [
    "<div>\n",
    "    <p><center><h2><b>Bem-vindo ao roteiro de Introdução ao Python - Parte 2</b></h2><br><font size='2px'>*Confeccionado por Marcílio F. Oliveira Neto (marciliofoneto@gmail.com)<br>Github: github.com/marciliooliveira</font></center></p>\n",
    "    <p>Neste roteiro você irá aprender sobre a sintaxe do Python. Este roteiro tem o intuito de seguir o conceito <i>do-it-yourself</i>.</p>\n",
    "</div><br>\n",
    "<div>\n",
    "    <p>Neste roteiro você encontrará os seguintes tópicos sobre Python:</p>\n",
    "    <ul>\n",
    "        <li>Operadores relacionais</li>\n",
    "        <li>if/else</li>\n",
    "        <li>if/elif</li>\n",
    "        <li>Operadores Lógicos</li>\n",
    "    </ul>\n",
    "</div>\n",
    "<div>\n",
    "    <p><h2>Instruções para utilizar este roteiro:</h2></p>\n",
    "    <ul>\n",
    "        <li>Importar o arquivo deste roteiro no Jupyter;</li>\n",
    "        <li>Clicar no menu superior <b>Cell</b>;</li>\n",
    "        <li>Clicar na opção <b>Run All</b>;</li>\n",
    "        <li>Para executar célular individualmente utilizar:</li>\n",
    "        <ul><li>Selecionar a célula</li>\n",
    "            <li>Clicar no botão <b>Run</b> - menu superior - ou;</li>\n",
    "            <li>Clicar na opção <b>Cell</b> e <b>Run Cells</b> - ou;</li>\n",
    "            <li>Utilizar o atalho <b>Ctrl + Enter</b>.</li>\n",
    "        </ul>\n",
    "    </ul>\n",
    "</div>\n",
    "__________________________________________________________________________________________________________________<br>\n",
    "<div><font size='2px'>\n",
    "    <p>Este roteiro foi inspirado em metodologias ativas de ensino.<br>Este conteúdo foi confeccionado pelo professor: Marcílio Francisco de Oliveira Neto (marciliofoneto@gmail.com) <br>Este roteiro é aberto para todos, só não esqueça de citar a fonte!</p>\n",
    "    </font></div>"
   ]
  },
  {
   "cell_type": "code",
   "execution_count": 1,
   "metadata": {
    "deletable": false,
    "editable": false
   },
   "outputs": [
    {
     "data": {
      "text/plain": [
       "True"
      ]
     },
     "execution_count": 1,
     "metadata": {},
     "output_type": "execute_result"
    }
   ],
   "source": [
    "1 == 1 #Testa se 1 é igual a 1"
   ]
  },
  {
   "cell_type": "code",
   "execution_count": 2,
   "metadata": {
    "deletable": false,
    "editable": false
   },
   "outputs": [
    {
     "data": {
      "text/plain": [
       "False"
      ]
     },
     "execution_count": 2,
     "metadata": {},
     "output_type": "execute_result"
    }
   ],
   "source": [
    "3 > 5 #Testa se 3 é maior que 5"
   ]
  },
  {
   "cell_type": "code",
   "execution_count": 3,
   "metadata": {
    "deletable": false,
    "editable": false
   },
   "outputs": [
    {
     "data": {
      "text/plain": [
       "True"
      ]
     },
     "execution_count": 3,
     "metadata": {},
     "output_type": "execute_result"
    }
   ],
   "source": [
    "numero = 4  #Atribui o valor 4 para a variável numero \n",
    "numero >= 4 #Testa se o valor da variável numero é maior igual a 4"
   ]
  },
  {
   "cell_type": "code",
   "execution_count": 4,
   "metadata": {
    "deletable": false,
    "editable": false
   },
   "outputs": [
    {
     "data": {
      "text/plain": [
       "False"
      ]
     },
     "execution_count": 4,
     "metadata": {},
     "output_type": "execute_result"
    }
   ],
   "source": [
    "fruta = \"maça\"  #Atribui o texto maça a variável fruta\n",
    "fruta != \"maça\" #Testa se o valor da variável fruta é diferente ao texto maça"
   ]
  },
  {
   "cell_type": "code",
   "execution_count": 5,
   "metadata": {
    "deletable": false,
    "editable": false
   },
   "outputs": [
    {
     "data": {
      "text/plain": [
       "False"
      ]
     },
     "execution_count": 5,
     "metadata": {},
     "output_type": "execute_result"
    }
   ],
   "source": [
    "palavra_um = \"araras\"   #Atribui o texto araras a variável palavra_um\n",
    "palavra_dois = \"sarara\" #Atribui o texto sarara a variável palavra_dois\n",
    "palavra_um == palavra_dois #Realiza a comparação (igualdade) entre as variaveis"
   ]
  },
  {
   "cell_type": "code",
   "execution_count": 6,
   "metadata": {
    "deletable": false,
    "editable": false
   },
   "outputs": [
    {
     "data": {
      "text/plain": [
       "False"
      ]
     },
     "execution_count": 6,
     "metadata": {},
     "output_type": "execute_result"
    }
   ],
   "source": [
    "numero_teste = 5\n",
    "numero_teste > 10+10"
   ]
  },
  {
   "cell_type": "markdown",
   "metadata": {},
   "source": [
    "<div>\n",
    "<h1>Do-it-yourself</h1>\n",
    "    <p>Tente executar suas comparações nos quadros abaixo. Vou sugerir algumas para você! :D</p>\n",
    "    <p>Lembre-se, para executar as células utilize o botão <b>Run</b> no menu ou o atalho <b>Ctrl + Enter</b>.</p>\n",
    "    <p>Verifique se sua idade é maior que 18:</p>\n",
    "</div>"
   ]
  },
  {
   "cell_type": "code",
   "execution_count": null,
   "metadata": {},
   "outputs": [],
   "source": []
  },
  {
   "cell_type": "markdown",
   "metadata": {},
   "source": [
    "<div><p>Atribua o valor 600 a uma variável qualquer (pode dar o nome que quiser). Faça um teste se essa variável é maior que a diferença 49209 - 48630:</p></div>"
   ]
  },
  {
   "cell_type": "code",
   "execution_count": null,
   "metadata": {},
   "outputs": [],
   "source": []
  },
  {
   "cell_type": "markdown",
   "metadata": {},
   "source": [
    "<div><p>Crie uma variável chamada <i>palavra</i>, atribua o valor \"arara\" à ela. Faça um teste para checar se essa variável é um palíndromo, ou seja, teste se \"arara\" escrito de trás para frente tem a mesma grafia:</p></div>"
   ]
  },
  {
   "cell_type": "code",
   "execution_count": null,
   "metadata": {},
   "outputs": [],
   "source": []
  },
  {
   "cell_type": "markdown",
   "metadata": {
    "deletable": false,
    "editable": false
   },
   "source": [
    "<div>\n",
    "    <p><b><h2>O <i>IF</i></h2></b></p>\n",
    "    <p>Você já conheçou os <i>babysteps</i> do Python, mas programar é muito além de simples textos na tela e entrada de dados. Programar é garantir ao computador a realização de tarefas da melhor forma, podendo escolher qual a melhor solução, o que deve ser feito...O massa disso tudo é que <b>você</b> define o que deve ser feito, como é feito, qual a melhor escolha! Você deve saber a lógica por baixo do capô!</p>\n",
    "    <p>Assim, a fim de dar mais liberdade ao programa e o que ele deve fazer, temos os comandos que alteram o fluxo de execução de um programa.</p>\n",
    "    <p>Um desses comandos é o <b>if</b>. Esse comando está acostumado a aparecer junto a vários outros, então, atente-se que, daqui em diante, seus <i>scripts</i> Python ficarão maiores.</p> \n",
    "    <p>Vale lembrar que utilizaremos os conceitos abordados na parte 1 desses roteiros.</p>\n",
    "    <p><b><h2>Sintaxe do IF</h2></b></p>\n",
    "    <p>Veja no quadro abaixo como é simples escrever um <b>if</b>:\n",
    "</div>"
   ]
  },
  {
   "cell_type": "code",
   "execution_count": 7,
   "metadata": {
    "deletable": false,
    "editable": false
   },
   "outputs": [],
   "source": [
    "if 5 > 3:\n",
    "    #do something\n",
    "    pass"
   ]
  },
  {
   "cell_type": "markdown",
   "metadata": {},
   "source": [
    "<div>\n",
    "    <p>Neste momento você pode desconsiderar o comando <b>pass</b> acima. Foque apenas na linha do comando <b>if</b>.</p>\n",
    "    <p>O comentário <i>do something</i> sugere que você poderá utilizar os espaços abaixo da linha do comando <b>if</b> para desenvolver scripts necessários, <b>se e somente se, a condição 5 > 3 for <u>VERDADEIRA</u></b>. Entenda abaixo! ;)</p>\n",
    "    </div>"
   ]
  },
  {
   "cell_type": "code",
   "execution_count": 8,
   "metadata": {
    "deletable": false,
    "editable": false
   },
   "outputs": [
    {
     "name": "stdout",
     "output_type": "stream",
     "text": [
      "O número 5 é maior que o 3!\n"
     ]
    }
   ],
   "source": [
    "if 5 > 3:\n",
    "    print(\"O número 5 é maior que o 3!\")"
   ]
  },
  {
   "cell_type": "markdown",
   "metadata": {},
   "source": [
    "<div>\n",
    "    <p>O comando <b>print</b> só foi executado porque a condição <b>5 > 3</b> é verdadeira, caso contrário, nada seria exibido.</p>\n",
    "    <p>Você deve ter notado que a linha do comando <b>print</b> está mais recuada se comparada ao <b>if</b>, certo? Se não, essa é a hora!</p>\n",
    "    <p><h2>Indentação</h2></p>\n",
    "    <p>Isso significa que o comando <b>print</b> está na hierarquia do comando <b>if</b>, ou seja, é algo a ser executado apenas se, e somente se, a condição do comando <b>if</b> for satisfeita. Normalmente, indentação é feita pelo uso da tecla <b>TAB</b> do seu teclado.</p>\n",
    "    <p><b>Indentação é OBRIGATÓRIO em Python.</b></p>\n",
    "    <p><h2>Do-it-yourself</h2></p>\n",
    "    <p>Teste você mesmo o caso contrário, ou seja, modifique os comandos mostrados acima e teste se 5 é menor igual a 3. Execute este teste, note que não haverá saída de texto.</p>\n",
    "    </div>"
   ]
  },
  {
   "cell_type": "code",
   "execution_count": null,
   "metadata": {},
   "outputs": [],
   "source": []
  },
  {
   "cell_type": "markdown",
   "metadata": {},
   "source": [
    "<div><p>Voltando ao exemplo do palíndromo, veja um caso interessante para testar essa se palavras escritas de forma inversa são iguais às grafias normais.</p></div>"
   ]
  },
  {
   "cell_type": "code",
   "execution_count": 9,
   "metadata": {
    "deletable": false,
    "editable": false
   },
   "outputs": [
    {
     "name": "stdout",
     "output_type": "stream",
     "text": [
      "A palavra arara é um palíndromo!\n"
     ]
    }
   ],
   "source": [
    "original = \"arara\"\n",
    "invertida = \"arara\"\n",
    "if original == invertida: #Testa SE as variáveis são idênticas\n",
    "    print(\"A palavra arara é um palíndromo!\") #Em caso afirmativo, este comando print é executado"
   ]
  },
  {
   "cell_type": "markdown",
   "metadata": {},
   "source": [
    "<div><p><h2>Do-it-yourself</h2></p>\n",
    "<p>Modifique o exemplo do quadro acima - palíndromo - para que seja possível o usuário digitar duas palavras. Faça o teste e, caso as grafias forem iguais - escritas original e na ordem inversa - exiba que as palavras são palíndromo. Atenção no uso de <b>indentação</b>!</p></div>"
   ]
  },
  {
   "cell_type": "code",
   "execution_count": null,
   "metadata": {},
   "outputs": [],
   "source": []
  },
  {
   "cell_type": "markdown",
   "metadata": {},
   "source": [
    "<div>\n",
    "    <p><h2>IF/ELSE</h2></p>\n",
    "    <p>Para toda condição, há a possibilidade desta ser <b>VERDADEIRA</b> ou <b>FALSA</b>, lembra?! Pois bem, tratar uma condição verdade você já sabe - utilizando o comando <b>if</b>, mas e se o teste da condição resultar em falso? Eis que surge o comando <b>else</b> (senão)!</p>\n",
    "    <p>Para todo comando <b>ELSE</b> deve existir um comando <b>IF</b>. Lembre-se, o else é o caso contrário do que foi testado no if, portanto, <b>não há condições a serem testadas no else</b>!</p>\n",
    "    </div>"
   ]
  },
  {
   "cell_type": "code",
   "execution_count": 10,
   "metadata": {
    "deletable": false,
    "editable": false
   },
   "outputs": [
    {
     "name": "stdout",
     "output_type": "stream",
     "text": [
      "NÃO é palíndromo!\n"
     ]
    }
   ],
   "source": [
    "original = \"arara\"\n",
    "invertida = \"araras\"\n",
    "if original == invertida: #Testa SE as variáveis são idênticas\n",
    "    print(\"É palíndromo!\") #Se VERDADEIRO, este comando print é executado\n",
    "else:\n",
    "    print(\"NÃO é palíndromo!\") #Se o teste do IF resultar em FALSO, este comando print é executado"
   ]
  },
  {
   "cell_type": "code",
   "execution_count": 11,
   "metadata": {
    "deletable": false,
    "editable": false
   },
   "outputs": [
    {
     "name": "stdout",
     "output_type": "stream",
     "text": [
      "O número 5 NÃO É MENOR que 3!\n"
     ]
    }
   ],
   "source": [
    "if 5 < 3:\n",
    "    print(\"O número 5 é maior que 3!\")\n",
    "else: #Se o teste do IF resultar em FALSO\n",
    "    print(\"O número 5 NÃO É MENOR que 3!\") #este comando print é executado"
   ]
  },
  {
   "cell_type": "markdown",
   "metadata": {},
   "source": [
    "<div>\n",
    "    <p><h2>Do-it-yourself</h2></p>\n",
    "    <p>Faça um script que leia uma idade do usuário e verifique se ela é maior de idade. Se sim, mostre uma mensagem de sua criatividade, caso contrário, mostre uma mensagem de \"erro\". Atenção no uso de <b>indentação</b>!</p>\n",
    "    </div>"
   ]
  },
  {
   "cell_type": "code",
   "execution_count": null,
   "metadata": {},
   "outputs": [],
   "source": []
  },
  {
   "cell_type": "markdown",
   "metadata": {},
   "source": [
    "<div>\n",
    "    <p>Faça um script que contenha uma variável senha - com valor já atribuído de sua vontade (será sua senha). Após isso, crie um simulador de login. Peça ao usuário para digitar a senha, se a senha digitada corresponder com a salva no sistema, exiba uma mensagem amigável. Caso contrário, exiba uma mensagem de senha inválida.</p>\n",
    "    </div>"
   ]
  },
  {
   "cell_type": "code",
   "execution_count": null,
   "metadata": {},
   "outputs": [],
   "source": []
  },
  {
   "cell_type": "markdown",
   "metadata": {},
   "source": [
    "<div>\n",
    "    <p><h2>IF/ELIF</h2></p>\n",
    "    <p>Este jogo de comandos - <b>IF/ELIF</b> - é uma variação dos conhecidos <b>IF/ELSE</b>. Comumente, em aplicações complexas ou extensas, precisamos de várias condições a serem testadas, o que gera aninhamentos de <i>if/else</i>. E como Python veio para tornar a sua vida produtiva, criou-se o <b>ELIF</b>, que nada mais é do que a junção de else + if.</p>\n",
    "    <p>Uma nota importante é que o <b>ELIF</b> só pode existir se houver um <b>IF</b> ou um <b>ELIF</b> precedendo-os.</p>\n",
    "    <p>A ideia base é a seguinte: caso condição(ões) não seja(m) satisfeita(s) para um dado <i>if</i>, esta(s) possa(m) ser testada(s) - novamente - por <b>elif</b> subsequentes.</p>\n",
    "    <p>Veja como é fácil a sintaxe:</p>\n",
    "    </div>"
   ]
  },
  {
   "cell_type": "code",
   "execution_count": 2,
   "metadata": {
    "deletable": false,
    "editable": false
   },
   "outputs": [
    {
     "name": "stdout",
     "output_type": "stream",
     "text": [
      "Frase 3\n"
     ]
    }
   ],
   "source": [
    "if 5 > 10: #Testa se 5 é maior que 10 - o que é falso!\n",
    "    print(\"Frase 1\")\n",
    "elif 5 == 4: #Testa se 5 é igual a quatro - o que é falso!\n",
    "    print(\"Frase 2\")\n",
    "elif 5 <= 5: #Testa se 5 é igual ou menor que 5 - o que é VERDADEIRO!\n",
    "    print(\"Frase 3\")\n",
    "else: #Caso todas as condições anteriores falhassem\n",
    "    print(\"Frase 4\")"
   ]
  },
  {
   "cell_type": "markdown",
   "metadata": {},
   "source": [
    "<div>\n",
    "    <p><h2>Do-it-yourself</h2></p>\n",
    "    <p>Faça um script que leia uma idade do usuário e verifique qual categoria ele pertence, seguindo a tabela abaixo.</p>\n",
    "    <p>\n",
    "<table>\n",
    "   <tr>\n",
    "    <th>Mirim</th>\n",
    "    <th>Infantil</th> \n",
    "    <th>Juvenil</th>\n",
    "    <th>Adulto</th>\n",
    "    <th>Idoso</th>\n",
    "  </tr>\n",
    "  <tr>\n",
    "    <td>até 7 anos</td>\n",
    "    <td>8 a 13 anos</td> \n",
    "    <td>14 a 17 anos</td>\n",
    "    <td>18 a 60 anos</td>\n",
    "    <td>acima de 60 anos</td>\n",
    "  </tr>\n",
    "</table></p>\n",
    "</div>"
   ]
  },
  {
   "cell_type": "code",
   "execution_count": null,
   "metadata": {},
   "outputs": [],
   "source": []
  },
  {
   "cell_type": "markdown",
   "metadata": {},
   "source": [
    "<div>\n",
    "    <p><h2>Operadores lógicos</h2></p>\n",
    "    <p>Os operadores lógicos têm o intuito de relacionar condições de modo que tais relações resultam em UM de dois estados possíveis: <b>VERDADEIRO</b> ou <b>FALSO</b>.</p>\n",
    "    <p>Em Python, os operadores lógicos são palavras reservadas em inglês:</p>\n",
    "<p>\n",
    "    <ul>\n",
    "        <li>Operador E - <b>and</b></li>\n",
    "        <li>Operador OU - <b>or</b></li>\n",
    "        <li>Operador NÃO - <b>not</b></li>\n",
    "    </ul>\n",
    "</p>\n",
    "<p>A tabela abaixo mostra a relação das condições e os resultados de saída para os operadores:</p>\n",
    "<p>\n",
    "<table>\n",
    "   <tr>\n",
    "    <th>Condição A</th>\n",
    "    <th>Condição B</th> \n",
    "    <th>A and B</th>\n",
    "    <th>A or B</th>\n",
    "    <th>not A</th>\n",
    "    </tr>\n",
    "  <tr>\n",
    "    <td>Verdadeiro</td>\n",
    "    <td>Verdadeiro</td> \n",
    "    <td>Verdadeiro</td>\n",
    "    <td>Verdadeiro</td>\n",
    "    <td>Falso</td>\n",
    "  </tr>\n",
    "    <tr>\n",
    "    <td>Verdadeiro</td>\n",
    "    <td>Falso</td> \n",
    "    <td>Falso</td>\n",
    "    <td>Verdadeiro</td>\n",
    "    <td>Falso</td>\n",
    "  </tr>\n",
    "    <tr>\n",
    "    <td>Falso</td>\n",
    "    <td>Verdadeiro</td> \n",
    "    <td>Falso</td>\n",
    "    <td>Verdadeiro</td>\n",
    "    <td>Verdadeiro</td>\n",
    "  </tr>\n",
    "    <tr>\n",
    "    <td>Falso</td>\n",
    "    <td>Falso</td> \n",
    "    <td>Falso</td>\n",
    "    <td>Falso</td>\n",
    "    <td>Verdadeiro</td>\n",
    "  </tr>\n",
    "</table>\n",
    "</p>\n",
    "<p>Veja como fica a sintaxe dos operadores lógicos, que são comumente utilizados com os comandos condicionais:</p>\n",
    "</div>"
   ]
  },
  {
   "cell_type": "code",
   "execution_count": 3,
   "metadata": {
    "deletable": false,
    "editable": false
   },
   "outputs": [
    {
     "data": {
      "text/plain": [
       "True"
      ]
     },
     "execution_count": 3,
     "metadata": {},
     "output_type": "execute_result"
    }
   ],
   "source": [
    "5 == 5 and 10 > 9"
   ]
  },
  {
   "cell_type": "code",
   "execution_count": 4,
   "metadata": {
    "deletable": false,
    "editable": false
   },
   "outputs": [
    {
     "data": {
      "text/plain": [
       "False"
      ]
     },
     "execution_count": 4,
     "metadata": {},
     "output_type": "execute_result"
    }
   ],
   "source": [
    "5 == 5 and 10 > 15"
   ]
  },
  {
   "cell_type": "code",
   "execution_count": 5,
   "metadata": {
    "deletable": false,
    "editable": false
   },
   "outputs": [
    {
     "data": {
      "text/plain": [
       "True"
      ]
     },
     "execution_count": 5,
     "metadata": {},
     "output_type": "execute_result"
    }
   ],
   "source": [
    "5 == 5 or 10 > 9 "
   ]
  },
  {
   "cell_type": "code",
   "execution_count": 6,
   "metadata": {
    "deletable": false,
    "editable": false
   },
   "outputs": [
    {
     "data": {
      "text/plain": [
       "True"
      ]
     },
     "execution_count": 6,
     "metadata": {},
     "output_type": "execute_result"
    }
   ],
   "source": [
    "5 != 5 or 10 < 15"
   ]
  },
  {
   "cell_type": "markdown",
   "metadata": {},
   "source": [
    "<div>\n",
    "    <p>Você poderá utilizar os operadores lógicos com os comandos <b>IF/ELSE e IF/ELIF</b>. Veja um exemplo abaixo antes de você mesmo programar.</p>\n",
    "    </div>"
   ]
  },
  {
   "cell_type": "code",
   "execution_count": 9,
   "metadata": {
    "deletable": false,
    "editable": false
   },
   "outputs": [
    {
     "name": "stdout",
     "output_type": "stream",
     "text": [
      "Digite se o tempo está chuvoso ou ensolarado: chuvoso\n",
      "Digite a hora atual - sem os minutos: 11\n",
      "É manhã e está chovendo\n"
     ]
    }
   ],
   "source": [
    "#Programa do Tempo\n",
    "condicao_tempo = input(\"Digite se o tempo está chuvoso ou ensolarado: \")\n",
    "horario_tempo = int(input(\"Digite a hora atual - sem os minutos: \"))\n",
    "if horario_tempo > 5 and horario_tempo < 12 and condicao_tempo == \"chuvoso\":\n",
    "    print(\"É manhã e está chovendo\")\n",
    "elif horario_tempo > 5 and horario_tempo < 12 and condicao_tempo == \"ensolarado\":\n",
    "    print(\"É manhã e está ensolarado\")\n",
    "elif horario_tempo > 12 and horario_tempo < 18 and condicao_tempo == \"chuvoso\":\n",
    "    print(\"É tarde e está chuvoso\")\n",
    "elif horario_tempo > 12 and horario_tempo < 18 and condicao_tempo == \"ensolarado\":\n",
    "    print(\"É tarde e está ensolarado\")"
   ]
  },
  {
   "cell_type": "markdown",
   "metadata": {},
   "source": [
    "<div>\n",
    "    <p><h2>Do-it-yourself</h2></p>\n",
    "    <p>Faça um script que leia uma idade do usuário e verifique qual categoria ele pertence, seguindo a tabela abaixo. Desta vez, utilize operadores lógicos para verificar os intervalos.<table>\n",
    "   <tr>\n",
    "    <th>Mirim</th>\n",
    "    <th>Infantil</th> \n",
    "    <th>Juvenil</th>\n",
    "    <th>Adulto</th>\n",
    "    <th>Idoso</th>\n",
    "  </tr>\n",
    "  <tr>\n",
    "    <td>até 7 anos</td>\n",
    "    <td>8 a 13 anos</td> \n",
    "    <td>14 a 17 anos</td>\n",
    "    <td>18 a 60 anos</td>\n",
    "    <td>acima de 60 anos</td>\n",
    "  </tr>\n",
    "</table></p>\n",
    "</div>"
   ]
  },
  {
   "cell_type": "code",
   "execution_count": null,
   "metadata": {},
   "outputs": [],
   "source": []
  },
  {
   "cell_type": "markdown",
   "metadata": {
    "deletable": false,
    "editable": false
   },
   "source": [
    "<div>\n",
    "    <p><b><h2>Parabéns! Você finalizou o roteiro 2!</h2></b></p>\n",
    "    <p>Agora é hora de você praticar com exercícios.</p>\n",
    "</div>\n",
    "__________________________________________________________________________________________________________________<br>\n",
    "<div><font size='1px'>\n",
    "    <p>Este roteiro foi inspirado em metodologias ativas de ensino.<br>Este conteúdo foi confeccionado pelo professor: <br>Marcílio Francisco de Oliveira Neto (marciliofoneto@gmail.com)</p>\n",
    "    </font></div>"
   ]
  }
 ],
 "metadata": {
  "kernelspec": {
   "display_name": "Python 3",
   "language": "python",
   "name": "python3"
  },
  "language_info": {
   "codemirror_mode": {
    "name": "ipython",
    "version": 3
   },
   "file_extension": ".py",
   "mimetype": "text/x-python",
   "name": "python",
   "nbconvert_exporter": "python",
   "pygments_lexer": "ipython3",
   "version": "3.6.5"
  }
 },
 "nbformat": 4,
 "nbformat_minor": 2
}
