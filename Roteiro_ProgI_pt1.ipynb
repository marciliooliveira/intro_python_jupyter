{
 "cells": [
  {
   "cell_type": "markdown",
   "metadata": {
    "deletable": false,
    "editable": false,
    "solution": "shown"
   },
   "source": [
    "<div>\n",
    "    <p><h2><center><b>Bem-vindo ao roteiro de Introdução ao Python</b></center></h2></p>\n",
    "    <p>Neste roteiro você irá aprender sobre a sintaxe do Python.</p>\n",
    "    <p>Este roteiro tem o intuito de seguir o conceito <i>do-it-yourself</i> (faça você mesmo). Além disso, levará você a conhecer a linguagem Python de forma autônoma, mas com a tutoria de um professor.</p>\n",
    "</div><br>\n",
    "<div>\n",
    "    <p>Neste roteiro você encontrará os seguintes tópicos sobre Python:</p>\n",
    "    <ul>\n",
    "        <li>Olá, mundo!</li>\n",
    "        <li>Comando Print</li>\n",
    "        <li>Comando Input</li>\n",
    "        <li>Variáveis</li>\n",
    "        <li>Tipo string</li>\n",
    "        <li>Tipo int</li>\n",
    "        <li>Tipo float</li>\n",
    "        <li>...</li>\n",
    "    </ul>\n",
    "</div>\n",
    "<div>\n",
    "    <p><h2>Instruções para utilizar este roteiro:</h2></p>\n",
    "    <ul>\n",
    "        <li>Importar o arquivo deste roteiro no Jupyter;</li>\n",
    "        <li>Clicar no menu superior <b>Cell</b>;</li>\n",
    "        <li>Clicar na opção <b>Run All</b>;</li>\n",
    "        <li>Para executar célular individualmente utilizar:</li>\n",
    "        <ul><li>Selecionar a célula</li>\n",
    "            <li>Clicar no botão <b>Run</b> - menu superior - ou;</li>\n",
    "            <li>Clicar na opção <b>Cell</b> e <b>Run Cells</b> - ou;</li>\n",
    "            <li>Utilizar o atalho <b>Ctrl + Enter</b>.</li>\n",
    "        </ul>\n",
    "    </ul>\n",
    "    <p></p>\n",
    "</div>__________________________________________________________________________________________________________________<br>\n",
    "<div><font size='1px'>\n",
    "    <p>Este roteiro foi inspirado em metodologias ativas de ensino.<br>Este conteúdo foi confeccionado pelo(s) professor(es): <br>Marcílio Francisco de Oliveira Neto (marciliofoneto@gmail.com)</p>\n",
    "    </font></div>"
   ]
  },
  {
   "cell_type": "markdown",
   "metadata": {},
   "source": [
    "<div>\n",
    "    <p><b><h2>Seu primeiro programa - Olá, mundo!</h2></b></p>\n",
    "    <p>Programar consiste em designar (codificar) tarefas para que um computador execute-as. Acredite, em algum momento da sua vida de engenheiro você precisará fazer isso.</p>\n",
    "    <b><h2>Comando print</h2></b>\n",
    "    <p>Sendo assim, é importante que o computador consiga nos dizer algo. Em Python, você consegue fazer isso utilizando o comando <b>print</b>.\n",
    "</div>"
   ]
  },
  {
   "cell_type": "code",
   "execution_count": 1,
   "metadata": {
    "deletable": false,
    "editable": false
   },
   "outputs": [
    {
     "name": "stdout",
     "output_type": "stream",
     "text": [
      "Meu primeiro comando - print\n"
     ]
    }
   ],
   "source": [
    "print(\"Meu primeiro comando - print\")"
   ]
  },
  {
   "cell_type": "markdown",
   "metadata": {
    "deletable": false,
    "editable": false
   },
   "source": [
    "<div>\n",
    "    <p>Como visto acima, o comando (*)<b>print</b> permite que o computador exiba variados textos na tela.</p>\n",
    "    <p><i>(*)Aqui cabe um ponto de atenção, você deve seguir o template acima para exibir suas frases, ou seja, utilizando aspas.</i></p>\n",
    "</div>\n",
    "<div>\n",
    "<h1>Do-it-yourself</h1>\n",
    "    <p>Tente executar seu primeiro comando no quadro abaixo. Utilize o <b>print</b> e exiba uma frase que lhe agrade.</p>\n",
    "</div>"
   ]
  },
  {
   "cell_type": "code",
   "execution_count": null,
   "metadata": {},
   "outputs": [],
   "source": []
  },
  {
   "cell_type": "markdown",
   "metadata": {
    "deletable": false,
    "editable": false
   },
   "source": [
    "<div>\n",
    "    <p>Para executar o comando, você pode utilizar o botão - menu superior - <b>Run</b> ou utilizar o atalho <b>Ctrl + Enter</b>. Veja a saída no próprio quadro.</p>\n",
    "</div>\n",
    "<div>\n",
    "    <p><b><h2>Variações do print</h2></b></p>\n",
    "    <p>O comando <b>print</b> permite algumas variações para que a apresentação dos textos seja confortável. Além disso, permite exibir várias frases utilizando apenas uma única acerção. Veja abaixo alguns exemplos.</p>\n",
    "</div>"
   ]
  },
  {
   "cell_type": "code",
   "execution_count": 2,
   "metadata": {
    "deletable": false,
    "editable": false
   },
   "outputs": [
    {
     "name": "stdout",
     "output_type": "stream",
     "text": [
      "Este comando exibe uma frase com espaços!\n"
     ]
    }
   ],
   "source": [
    "print(\"Este\", \"comando\", \"exibe\", \"uma\", \"frase\", \"com\", \"espaços!\")"
   ]
  },
  {
   "cell_type": "code",
   "execution_count": 3,
   "metadata": {
    "deletable": false,
    "editable": false
   },
   "outputs": [
    {
     "name": "stdout",
     "output_type": "stream",
     "text": [
      "Estecomandoexibeumafrasesemespaços!\n"
     ]
    }
   ],
   "source": [
    "print(\"Este\" + \"comando\" + \"exibe\" + \"uma\" + \"frase\" + \"sem\" + \"espaços!\")"
   ]
  },
  {
   "cell_type": "markdown",
   "metadata": {
    "deletable": false,
    "editable": false
   },
   "source": [
    "<div>\n",
    "    <p>Note que utilizando a <b>vírgula(,)</b> podemos separar palavras sem o uso explícito do espaço. Mantenha isso em mente, isso o ajudará nos próximos passos.</p>\n",
    "    <p>O sinal de <b>soma(+)</b> é capaz de concatenar as palavras. Mantenha isso em mente, concatenação é algo muito utilizado na programação.\n",
    "</div>"
   ]
  },
  {
   "cell_type": "markdown",
   "metadata": {
    "deletable": false,
    "editable": false
   },
   "source": [
    "<h1>Do-it-yourself</h1>\n",
    "<p>Chegou a hora do <i><b>do-it-yourself</b></i>. Utilize os quadros abaixo e faça alguns testes com as variações demonstradas acima.</p>"
   ]
  },
  {
   "cell_type": "code",
   "execution_count": null,
   "metadata": {},
   "outputs": [],
   "source": []
  },
  {
   "cell_type": "code",
   "execution_count": null,
   "metadata": {},
   "outputs": [],
   "source": []
  },
  {
   "cell_type": "markdown",
   "metadata": {
    "deletable": false,
    "editable": false
   },
   "source": [
    "<div>\n",
    "    <p><b><h2>Variáveis</h2></b></p>\n",
    "    <p>Precisamos guardar o que sabemos em algum lugar, certo?! Para o computador não é diferente, ele possui memória, e para cada informação guardada na memória do computador precisamos definir um lugar - espaço - correto, esse espaço é denominado <b>variável</b>.</p>\n",
    "    <p>Variáveis são espaços (endereços) na memória do computador capazes de registrar a informação passada a ele.</p>\n",
    "    <p>Veja como é fácil criar variáveis capazes de guardar números em Python:</p>\n",
    "</div>"
   ]
  },
  {
   "cell_type": "code",
   "execution_count": 4,
   "metadata": {
    "deletable": false,
    "editable": false
   },
   "outputs": [],
   "source": [
    "a = 10"
   ]
  },
  {
   "cell_type": "code",
   "execution_count": 5,
   "metadata": {
    "deletable": false,
    "editable": false
   },
   "outputs": [],
   "source": [
    "b = 20"
   ]
  },
  {
   "cell_type": "code",
   "execution_count": 6,
   "metadata": {
    "deletable": false,
    "editable": false
   },
   "outputs": [],
   "source": [
    "c = 1.5"
   ]
  },
  {
   "cell_type": "markdown",
   "metadata": {
    "deletable": false,
    "editable": false
   },
   "source": [
    "<div>\n",
    "    <p>Nos quadros acima foram criadas duas variáveis, <b>a</b> e <b>b</b>. Note que os nomes <b>a</b> e <b>b</b> foram escolhidos aleatoriamente, você poderá dar o nome que melhor convém. Porém, deve-se respeitar alguns parâmetros:</p>\n",
    "    <p>\n",
    "    <ul>\n",
    "        <li>Não começar com números;</li>\n",
    "        <li>Não utilizar caracteres especiais;</li>\n",
    "        <li>Não possuir espaços;</li>\n",
    "        <li>Não utilizar palavras reservadas do Python (comandos).</li>\n",
    "    </ul>\n",
    "    </p>\n",
    "    <p>As variáveis também podem guardar palavras, frases, textos em geral. Veja como é fácil, basta utilizar as aspas.\n",
    "</div>"
   ]
  },
  {
   "cell_type": "code",
   "execution_count": 7,
   "metadata": {
    "deletable": false,
    "editable": false
   },
   "outputs": [],
   "source": [
    "fruta = \"maça\""
   ]
  },
  {
   "cell_type": "code",
   "execution_count": 8,
   "metadata": {
    "deletable": false,
    "editable": false
   },
   "outputs": [],
   "source": [
    "pessoa = \"João Carlos\""
   ]
  },
  {
   "cell_type": "code",
   "execution_count": 9,
   "metadata": {
    "deletable": false,
    "editable": false
   },
   "outputs": [],
   "source": [
    "nome_completo = \"Maria Silva de Bragança\""
   ]
  },
  {
   "cell_type": "code",
   "execution_count": 10,
   "metadata": {
    "deletable": false,
    "editable": false
   },
   "outputs": [],
   "source": [
    "sinopse_vingadores = \"Os Vingadores são um grupo de super-heróis de história em quadrinhos publicados nos Estados Unidos pela editora Marvel Comics. O grupo também aparece em adaptações da Marvel para cinema, desenho animado e videogames.\""
   ]
  },
  {
   "cell_type": "markdown",
   "metadata": {
    "deletable": false,
    "editable": false
   },
   "source": [
    "<div>\n",
    "    <p><b><h2>Atribuição</h2></b></p>\n",
    "    <p>Um conceito importante visto nos quadros acima é o de atribuição. Ao definirmos variáveis, já podemos passar (atribuir) valores à elas, isso é feito pelo <b>símbolo de igual (=)</b>.</p> \n",
    "    <p>Nos próximos quadros, você conhecerá o comando <b>input</b> e, atente-se que o sinal de atribuição é utilizado também. O comando <b>input</b> recebe um valor arbitrário e atribui esse valor em uma variável.</p>\n",
    "</div> "
   ]
  },
  {
   "cell_type": "markdown",
   "metadata": {
    "deletable": false,
    "editable": false
   },
   "source": [
    "<div>\n",
    "    <p><b><h2>Comando print e variáveis</h2></b></p>\n",
    "    <p>Agora você já sabe que o computador é capaz de falar e guardar informações na memória. Assim, nada mais justo do que fazer com que ele exiba as informações contidas na memória para nós.</p>\n",
    "    <p>Veja como é simples fazer essa tarefa em Python. Utilizaremos as variáveis criadas nos quadros acima para esses exemplos.</p> \n",
    "</div> "
   ]
  },
  {
   "cell_type": "code",
   "execution_count": 11,
   "metadata": {
    "deletable": false,
    "editable": false
   },
   "outputs": [
    {
     "name": "stdout",
     "output_type": "stream",
     "text": [
      "10\n"
     ]
    }
   ],
   "source": [
    "print(a)"
   ]
  },
  {
   "cell_type": "code",
   "execution_count": 12,
   "metadata": {
    "deletable": false,
    "editable": false
   },
   "outputs": [
    {
     "name": "stdout",
     "output_type": "stream",
     "text": [
      "20\n"
     ]
    }
   ],
   "source": [
    "print(b)"
   ]
  },
  {
   "cell_type": "code",
   "execution_count": 13,
   "metadata": {
    "deletable": false,
    "editable": false
   },
   "outputs": [
    {
     "name": "stdout",
     "output_type": "stream",
     "text": [
      "1.5\n"
     ]
    }
   ],
   "source": [
    "print(c)"
   ]
  },
  {
   "cell_type": "code",
   "execution_count": 14,
   "metadata": {
    "deletable": false,
    "editable": false
   },
   "outputs": [
    {
     "name": "stdout",
     "output_type": "stream",
     "text": [
      "10 20 1.5\n"
     ]
    }
   ],
   "source": [
    "print(a, b, c)"
   ]
  },
  {
   "cell_type": "markdown",
   "metadata": {
    "deletable": false,
    "editable": false
   },
   "source": [
    "<div>\n",
    "    <p>Note que agora podemos resgatar informações contidas na memória do computador e mostrá-las ao usuário, bastando para isso, utilizar o comando <b>print</b> junto com os nomes definidos para cada variável. Bacana, né?!</p>\n",
    "</div><br>\n",
    "<div>\n",
    "    <h1>Do-it-yourself</h1>\n",
    "    <p>Chegou a hora do <b>do-it-yourself</b>. Exiba as informações das variáveis: <b>fruta, pessoa, nome_completo e sinopse_vingadores</b>.</p>\n",
    "    <p>Utilize as variações do comando <b>print</b>, lembre-se das vírgulas e do sinal de soma.</p>\n",
    "    <p>Insira seus testes nos quadros abaixo, execute-os utilizando o botão <b>Run</b> ou o atalho <b>Ctrl + Enter</b>.</p>\n",
    "    <p>Exiba a informação (conteúdo) da variável <b>fruta</b>:</p>\n",
    "</div>"
   ]
  },
  {
   "cell_type": "code",
   "execution_count": null,
   "metadata": {},
   "outputs": [],
   "source": []
  },
  {
   "cell_type": "markdown",
   "metadata": {
    "deletable": false,
    "editable": false
   },
   "source": [
    "<p>Exiba a informação (conteúdo) da variável <b>pessoa</b>:</p>"
   ]
  },
  {
   "cell_type": "code",
   "execution_count": null,
   "metadata": {},
   "outputs": [],
   "source": []
  },
  {
   "cell_type": "markdown",
   "metadata": {
    "deletable": false,
    "editable": false
   },
   "source": [
    "<p>Exiba a informação (conteúdo) da variável <b>nome_completo</b>:</p>"
   ]
  },
  {
   "cell_type": "code",
   "execution_count": null,
   "metadata": {},
   "outputs": [],
   "source": []
  },
  {
   "cell_type": "markdown",
   "metadata": {
    "deletable": false,
    "editable": false
   },
   "source": [
    "<p>Exiba a informação (conteúdo) da variável <b>sinopse_vingadores</b>:</p>"
   ]
  },
  {
   "cell_type": "code",
   "execution_count": null,
   "metadata": {},
   "outputs": [],
   "source": []
  },
  {
   "cell_type": "markdown",
   "metadata": {
    "deletable": false,
    "editable": false
   },
   "source": [
    "<p>Utilize o próximo quadro para fazer testes com o comando <b>print</b> e suas variáveis com <b>vírgula(,)</b> e o sinal de <b>soma(+)</b>:</p>"
   ]
  },
  {
   "cell_type": "code",
   "execution_count": null,
   "metadata": {},
   "outputs": [],
   "source": []
  },
  {
   "cell_type": "markdown",
   "metadata": {
    "deletable": false,
    "editable": false
   },
   "source": [
    "<div>\n",
    "    <p><b><h2>Comando input</h2></b></p>\n",
    "    <p>Você já sabe que o computador é capaz de guardar informações em memória e falar (exibir) essas informações.</p>\n",
    "    <p>Agora é hora de saber como fazer ele te ouvir. No dia-a-dia é comum que você passe informações ao computador, e em Python isso é simples, basta utilizar o comando <b>input</b>. Tenha em mente que essas informações deverão ser armazenadas em memória, ou seja, precisarão de <b>variáveis</b>.</p>\n",
    "    <p>Veja abaixo um exemplo simples do comando <b>input</b>:\n",
    "</div>"
   ]
  },
  {
   "cell_type": "code",
   "execution_count": 15,
   "metadata": {
    "deletable": false,
    "editable": false
   },
   "outputs": [
    {
     "name": "stdout",
     "output_type": "stream",
     "text": [
      "Digite uma informação: teste\n"
     ]
    }
   ],
   "source": [
    "informacao = input(\"Digite uma informação: \")"
   ]
  },
  {
   "cell_type": "markdown",
   "metadata": {
    "deletable": false,
    "editable": false,
    "solution": "hidden",
    "variables": {
     "informacao": "teste"
    }
   },
   "source": [
    "<div>\n",
    "    <p>Note, no quadro acima, que o comando <b>input</b> depende de uma variável, chamada <b>informacao</b>.</p>\n",
    "    <p>Além disso, é necessário utilizar o sinal de igualdade** <b>(=)</b> para que o dado fornecido pelo usuário, no caso a frase: <i>{{informacao}}</i>, seja guardada na memória do computador.</p>\n",
    "    <p>Podemos comprovar que a informação: <b><i>{{informacao}}</i></b> está na memória do computador (variável informacao) através do comando <b>print</b>. Veja como é simples:\n",
    "</div>"
   ]
  },
  {
   "cell_type": "code",
   "execution_count": 16,
   "metadata": {
    "deletable": false,
    "editable": false
   },
   "outputs": [
    {
     "name": "stdout",
     "output_type": "stream",
     "text": [
      "teste\n"
     ]
    }
   ],
   "source": [
    "print(informacao)"
   ]
  },
  {
   "cell_type": "markdown",
   "metadata": {
    "deletable": false,
    "editable": false
   },
   "source": [
    "Veja um exemplo de informação numérica:"
   ]
  },
  {
   "cell_type": "code",
   "execution_count": 19,
   "metadata": {
    "deletable": false,
    "editable": false
   },
   "outputs": [
    {
     "name": "stdout",
     "output_type": "stream",
     "text": [
      "Digite seu nome: Joao Silva\n",
      "Digite sua idade: 22\n"
     ]
    }
   ],
   "source": [
    "nome = input(\"Digite seu nome: \")\n",
    "idade = input(\"Digite sua idade: \")"
   ]
  },
  {
   "cell_type": "markdown",
   "metadata": {
    "deletable": false,
    "editable": false,
    "variables": {
     "idade": "22",
     "nome": "Joao Silva"
    }
   },
   "source": [
    "Podemos comprovar que as informações inseridas pelo usuário: Nome: <b><i>{{nome}}</i></b> e Idade: <b><i>{{idade}}</i></b> está na memória do computador, exibindo o conteúdo da variável <b>nome</b> e <b>idade</b>."
   ]
  },
  {
   "cell_type": "code",
   "execution_count": 21,
   "metadata": {
    "deletable": false,
    "editable": false
   },
   "outputs": [
    {
     "name": "stdout",
     "output_type": "stream",
     "text": [
      "Nome digitado: Joao Silva\n",
      "Idade 22\n"
     ]
    }
   ],
   "source": [
    "print(\"Nome digitado:\", nome)\n",
    "print(\"Idade\", idade)"
   ]
  },
  {
   "cell_type": "markdown",
   "metadata": {
    "deletable": false,
    "editable": false
   },
   "source": [
    "<div><h4>**Sinal de atribuição de valores (=)</h4>\n",
    "\n",
    "Lembre-se, sempre que utilizar o comando <b>input</b> é necessário associar uma variável a ele, responsável por guardar a informação inserida. Essa associação é feita pelo comando de atribuição (=).</div>\n",
    "<div><br>\n",
    "<h1>Do-it-yourself</h1>\n",
    "    <p>Chegou a hora de praticar, utilizando os comandos <b>print</b>, <b>input</b>, <b>variáveis</b> e <b>de atribuição (=)</b>, utilize os quadros abaixo para realizar perguntas simples ao usuário e exibi-las na tela. Seja criativo, um simples formulário pedindo informações de Nome, RA e curso é uma boa pedida! :)</p>\n",
    "<div>"
   ]
  },
  {
   "cell_type": "markdown",
   "metadata": {
    "deletable": false,
    "editable": false
   },
   "source": [
    "<p>Utilize o quadro abaixo para realizar os inputs das informações. Você pode digitar mais de um comando no mesmo quadro</p>"
   ]
  },
  {
   "cell_type": "code",
   "execution_count": null,
   "metadata": {},
   "outputs": [],
   "source": []
  },
  {
   "cell_type": "markdown",
   "metadata": {
    "deletable": false,
    "editable": false
   },
   "source": [
    "<p>Utilize o quadro abaixo para exibir as informações contidas nas variáveis que você definiu.</p>\n",
    "<p>*Lembre-se, para executar os comandos você pode utilizar o botão <b>Run</b> ou o atalho <b>Ctrl + Enter</b>.</p>"
   ]
  },
  {
   "cell_type": "code",
   "execution_count": null,
   "metadata": {},
   "outputs": [],
   "source": []
  },
  {
   "cell_type": "markdown",
   "metadata": {
    "deletable": false,
    "editable": false
   },
   "source": [
    "<div>\n",
    "    <p><b><h2>Comando input com números</h2></b></p>\n",
    "    <p>Você já entendeu que o comando <b>input</b> é poderoso e pode receber qualquer informação, não é mesmo?!<br>Porém, é importante dizer que <b>toda e qualquer informação deste comando é textual (string)</b>, ou seja, caso o usuário digite um número, não seremos capazes de somá-los, por exemplo.</p>\n",
    "    <p>A pergunta é, como faço pra somar números digitados?! Simples... <br>\n",
    "        Devemos converter o <b>input</b> para o formato numérico, que a princípio são dois: <b>int</b> e <b>float</b>.\n",
    "    </p>\n",
    "    <br>\n",
    "    <p><h2>Tipo int</h2>\n",
    "    <p>Quando você desejar trabalhar com números inteiros, você deve realizar a seguinte conversão:\n",
    "    </p>\n",
    "</div>"
   ]
  },
  {
   "cell_type": "code",
   "execution_count": 23,
   "metadata": {
    "deletable": false,
    "editable": false
   },
   "outputs": [
    {
     "name": "stdout",
     "output_type": "stream",
     "text": [
      "Digite um numero inteiro 12\n"
     ]
    }
   ],
   "source": [
    "numero_um = input(\"Digite um numero inteiro \")\n",
    "numero_um = int(numero_um)"
   ]
  },
  {
   "cell_type": "markdown",
   "metadata": {
    "deletable": false,
    "editable": false
   },
   "source": [
    "<p>Até o momento, nada diferente, tirando o fato que convertemos a variável <b>numero_um</b> para <b>int</b>. Mas agora podemos somar outros números à essa variável. Veja abaixo:</p>"
   ]
  },
  {
   "cell_type": "code",
   "execution_count": 24,
   "metadata": {
    "deletable": false,
    "editable": false
   },
   "outputs": [
    {
     "name": "stdout",
     "output_type": "stream",
     "text": [
      "20\n"
     ]
    }
   ],
   "source": [
    "numero_um = numero_um + 8\n",
    "print(numero_um)"
   ]
  },
  {
   "cell_type": "markdown",
   "metadata": {
    "deletable": false,
    "editable": false
   },
   "source": [
    "<p>Notou que bacana?! A variável que continha o número informado pelo usuário teve seu valor (conteúdo) incrementado em 8 (oito).</p>\n",
    "<p>Agora podemos somar dois ou mais números informados pelo usuário, saca só como é simples! :D"
   ]
  },
  {
   "cell_type": "code",
   "execution_count": 35,
   "metadata": {
    "deletable": false,
    "editable": false
   },
   "outputs": [
    {
     "name": "stdout",
     "output_type": "stream",
     "text": [
      "Digite o número 1: 12\n",
      "Digite o número 2: 1\n"
     ]
    }
   ],
   "source": [
    "digito_1 = input(\"Digite o número 1: \")\n",
    "digito_1 = int(digito_1)\n",
    "digito_2 = input(\"Digite o número 2: \")\n",
    "digito_2 = int(digito_2)\n",
    "soma_digitos = digito_1 + digito_2"
   ]
  },
  {
   "cell_type": "markdown",
   "metadata": {
    "deletable": false,
    "editable": false
   },
   "source": [
    "<p>Para recuperarmos a soma e exibi-la na tela é fácil, basta utilizar o comando <b>print</b>:"
   ]
  },
  {
   "cell_type": "code",
   "execution_count": 36,
   "metadata": {
    "deletable": false,
    "editable": false
   },
   "outputs": [
    {
     "name": "stdout",
     "output_type": "stream",
     "text": [
      "A soma é: 13\n"
     ]
    }
   ],
   "source": [
    "print(\"A soma é:\", soma_digitos)"
   ]
  },
  {
   "cell_type": "markdown",
   "metadata": {
    "deletable": false,
    "editable": false
   },
   "source": [
    "<p><h2>Tipo float</h2>\n",
    "    <p>Quando você desejar trabalhar com números fracionados - podendo <b>ter ou não casas decimais</b> -, você deve realizar a seguinte conversão:\n",
    "    </p>"
   ]
  },
  {
   "cell_type": "code",
   "execution_count": 28,
   "metadata": {
    "deletable": false,
    "editable": false
   },
   "outputs": [
    {
     "name": "stdout",
     "output_type": "stream",
     "text": [
      "Digite um número fracionado: 1.5\n",
      "Digite um número fracionado: 2.3\n"
     ]
    }
   ],
   "source": [
    "digito_3 = input(\"Digite um número fracionado: \")\n",
    "digito_3 = float(digito_3)\n",
    "digito_4 = input(\"Digite um número fracionado: \")\n",
    "digito_4 = float(digito_4)\n",
    "soma_fracionada = digito_3 + digito_4"
   ]
  },
  {
   "cell_type": "code",
   "execution_count": 29,
   "metadata": {
    "deletable": false,
    "editable": false
   },
   "outputs": [
    {
     "name": "stdout",
     "output_type": "stream",
     "text": [
      "3.8\n"
     ]
    }
   ],
   "source": [
    "print(soma_fracionada)"
   ]
  },
  {
   "cell_type": "markdown",
   "metadata": {
    "deletable": false,
    "editable": false
   },
   "source": [
    "<p>Tipos <b>int</b> e <b>float</b> são extremamente úteis no dia-a-dia da nossa programação, matenha-os em mente! ;)<br><h2>Concatenação de texto</h2><br>Se você não realizar essa conversão, você terá um resultado parecido com o abaixo:</p>"
   ]
  },
  {
   "cell_type": "code",
   "execution_count": 33,
   "metadata": {
    "deletable": false,
    "editable": false
   },
   "outputs": [
    {
     "name": "stdout",
     "output_type": "stream",
     "text": [
      "Digite um número: 99.4\n",
      "Digite outro número: 12\n"
     ]
    }
   ],
   "source": [
    "dig_um = input(\"Digite um número: \")\n",
    "dig_dois = input(\"Digite outro número: \")\n",
    "soma_digs = dig_um + dig_dois"
   ]
  },
  {
   "cell_type": "code",
   "execution_count": 34,
   "metadata": {
    "deletable": false,
    "editable": false
   },
   "outputs": [
    {
     "name": "stdout",
     "output_type": "stream",
     "text": [
      "A soma foi: 99.412\n"
     ]
    }
   ],
   "source": [
    "print(\"A soma foi:\", soma_digs)"
   ]
  },
  {
   "cell_type": "markdown",
   "metadata": {
    "deletable": false,
    "editable": false
   },
   "source": [
    "<p>Note que as informações inseridas foram unidas - isso é concatenar -, então, se você não converter o dado informado para o tipo correto, você poderá obter algo totalmente diferente.</p>\n",
    "<br><p>Agora, ao menos você sabe como unir dois textos quaisquer quando solicitado! :D</p>\n",
    "<br>\n",
    "<p><h2><b>Operadores aritméticos</b></h2></p>\n",
    "<p>Se você estiver atento, já sacou que foi utilizado o operador aritmético de soma. Existem outros:</p><br>\n",
    "<p><ul>\n",
    "    <li>Divisão: /</li>\n",
    "    <li>Subtração: -</li>\n",
    "    <li>Múltiplicação: *</li>\n",
    "    <li>Potenciação: **</li>\n",
    "    <li>Resto da divisão: %</li>\n",
    "    <li>...</li>\n",
    "</ul><br>\n",
    "Podemos utilizar todos eles para trabalhar com variáveis numéricas, beleza?!</p>\n",
    "<p><h1>Do-it-yourself</h1></p>\n",
    "<p>Chegou a hora de praticar um pouco, chega de mimimi :P Utilize os quadros abaixo para isso.</p>\n",
    "<br>\n",
    "<p>Dessa vez, vai rolar até uma <b>proposta</b> do que você pode fazer. Faça um formulário capaz de realizar as seguintes ações:\n",
    "<ul><li>Ler o primeiro nome do usuário;</li>\n",
    "<li>Ler o sobrenome do usuário;</li>\n",
    "<li>Ler a idade em anos;</li>\n",
    "<li>Exibir o nome e sobrenome concatenados;</li>\n",
    "<li>Converter a idade em anos para dias;</li>\n",
    "<li>Exibir o resultado final.</li></ul></p>\n",
    "<p>Vou até te dar uma ajuda, saca só... No quadro abaixo, crie o código para ler o nome do usuário:</p>"
   ]
  },
  {
   "cell_type": "code",
   "execution_count": null,
   "metadata": {},
   "outputs": [],
   "source": []
  },
  {
   "cell_type": "markdown",
   "metadata": {
    "deletable": false,
    "editable": false
   },
   "source": [
    "<p>Agora leia o sobrenome:</p>"
   ]
  },
  {
   "cell_type": "code",
   "execution_count": null,
   "metadata": {},
   "outputs": [],
   "source": []
  },
  {
   "cell_type": "markdown",
   "metadata": {
    "deletable": false,
    "editable": false
   },
   "source": [
    "A idade:"
   ]
  },
  {
   "cell_type": "code",
   "execution_count": null,
   "metadata": {},
   "outputs": [],
   "source": []
  },
  {
   "cell_type": "markdown",
   "metadata": {
    "deletable": false,
    "editable": false
   },
   "source": [
    "Utilize o quadro abaixo para manipular os dados, converter o que for necessário e fazer os cálculos:"
   ]
  },
  {
   "cell_type": "code",
   "execution_count": null,
   "metadata": {},
   "outputs": [],
   "source": []
  },
  {
   "cell_type": "markdown",
   "metadata": {
    "deletable": false,
    "editable": false
   },
   "source": [
    "Mostre o resultado final neste último e seja feliz! ;)"
   ]
  },
  {
   "cell_type": "code",
   "execution_count": null,
   "metadata": {},
   "outputs": [],
   "source": []
  },
  {
   "cell_type": "markdown",
   "metadata": {
    "deletable": false,
    "editable": false
   },
   "source": [
    "<div>\n",
    "    <p><b><h2>Parabéns! Você finalizou o roteiro 1.</h2></b></p>\n",
    "    <p>Agora é hora de você praticar com exercícios.</p>\n",
    "    <p>Bom estudos! Lembre-se, se você estiver com dúvidas, peça auxílio ao(s) professor(es).</p>\n",
    "</div>\n",
    "__________________________________________________________________________________________________________________<br>\n",
    "<div><font size='1px'>\n",
    "    <p>Este roteiro foi inspirado em metodologias ativas de ensino.<br>Este conteúdo foi confeccionado pelo(s) professor(es): <br>Marcílio Francisco de Oliveira Neto (marciliofoneto@gmail.com)</p>\n",
    "    </font></div>"
   ]
  }
 ],
 "metadata": {
  "deletable": false,
  "editable": false,
  "kernelspec": {
   "display_name": "Python 3",
   "language": "python",
   "name": "python3"
  },
  "language_info": {
   "codemirror_mode": {
    "name": "ipython",
    "version": 3
   },
   "file_extension": ".py",
   "mimetype": "text/x-python",
   "name": "python",
   "nbconvert_exporter": "python",
   "pygments_lexer": "ipython3",
   "version": "3.6.5"
  },
  "trusted": true
 },
 "nbformat": 4,
 "nbformat_minor": 2
}
